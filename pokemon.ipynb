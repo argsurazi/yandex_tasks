{
 "cells": [
  {
   "cell_type": "markdown",
   "id": "a09d30b3",
   "metadata": {},
   "source": [
    "**Задание 5** "
   ]
  },
  {
   "cell_type": "markdown",
   "id": "8f604a41",
   "metadata": {},
   "source": [
    "<span style=\"color:#B7FA00\">Интрадакшн</span>\n",
    "- активируем все ячейки кроме главной\n",
    "- активируем главную\n",
    "- профит"
   ]
  },
  {
   "cell_type": "code",
   "execution_count": 6,
   "id": "8556f3cb",
   "metadata": {},
   "outputs": [
    {
     "name": "stdout",
     "output_type": "stream",
     "text": [
      "name ................ zapdos\n",
      "id .................. 145\n",
      "color ............... yellow\n",
      "capture_rate ........ 3\n",
      "base_happiness ...... 35\n",
      "is_mythical ......... False\n",
      "is_legendary ........ True\n",
      "shape.name .......... wings\n",
      "height .............. 16\n",
      "weight .............. 526\n"
     ]
    }
   ],
   "source": [
    "\"\"\"Главная ячейка\"\"\"\n",
    "\n",
    "target_name = 'zapdos'\n",
    "pokemon_info_main = dict()\n",
    "\n",
    "species = get_species(target_name)\n",
    "pokemon = get_pokemon(target_name)\n",
    "\n",
    "pokemon_info_main = species | pokemon\n",
    "show(pokemon_info_main)"
   ]
  },
  {
   "cell_type": "code",
   "execution_count": null,
   "id": "97e64ab2",
   "metadata": {},
   "outputs": [],
   "source": [
    "! pip install requests"
   ]
  },
  {
   "cell_type": "code",
   "execution_count": 2,
   "id": "b8721dba",
   "metadata": {},
   "outputs": [],
   "source": [
    "import requests"
   ]
  },
  {
   "cell_type": "code",
   "execution_count": 3,
   "id": "24368bec",
   "metadata": {},
   "outputs": [],
   "source": [
    "def show(pokemon_info):\n",
    "  \"\"\"Показываем результаты\"\"\"\n",
    "  LONGTD = 20\n",
    "  for k,v in pokemon_info_main.items():\n",
    "    print(f\"{k} {(LONGTD - len(k))*\".\"} {pokemon_info_main[k]}\")"
   ]
  },
  {
   "cell_type": "code",
   "execution_count": 4,
   "id": "badb5d91",
   "metadata": {},
   "outputs": [],
   "source": [
    "def get_species(name):\n",
    "  \"\"\"основной запрос\"\"\"\n",
    "  \n",
    "  get = requests.get('https://pokeapi.co/api/v2/pokemon-species/'+ name)\n",
    "  if get.status_code == 200:\n",
    "    pokemon_info = dict()\n",
    "    data = get.json()\n",
    "    pokemon_info['name'] = data['name']\n",
    "    pokemon_info['id'] = data['id']\n",
    "    pokemon_info['color'] = data['color']['name']\n",
    "    pokemon_info['capture_rate'] = data['capture_rate']\n",
    "    pokemon_info['base_happiness'] = data['base_happiness']\n",
    "    pokemon_info['is_mythical'] = data['is_mythical']\n",
    "    pokemon_info['is_legendary'] = data['is_legendary']\n",
    "    pokemon_info['shape.name'] = data['shape']['name']\n",
    "    return pokemon_info"
   ]
  },
  {
   "cell_type": "code",
   "execution_count": null,
   "id": "571d8f3d",
   "metadata": {},
   "outputs": [],
   "source": [
    "def get_pokemon(name):\n",
    "  \"\"\"дозапрашиваем недостающие данные на другой ручке\"\"\"\n",
    "  get = requests.get('https://pokeapi.co/api/v2/pokemon/'+ name)\n",
    "  if get.status_code == 200:\n",
    "    data = get.json()\n",
    "    pokemon_info = dict()\n",
    "    pokemon_info['height'] = data['height']\n",
    "    pokemon_info['weight'] = data['weight']\n",
    "\n",
    "\n",
    "    return pokemon_info"
   ]
  }
 ],
 "metadata": {
  "kernelspec": {
   "display_name": "venv",
   "language": "python",
   "name": "python3"
  },
  "language_info": {
   "codemirror_mode": {
    "name": "ipython",
    "version": 3
   },
   "file_extension": ".py",
   "mimetype": "text/x-python",
   "name": "python",
   "nbconvert_exporter": "python",
   "pygments_lexer": "ipython3",
   "version": "3.13.7"
  }
 },
 "nbformat": 4,
 "nbformat_minor": 5
}
