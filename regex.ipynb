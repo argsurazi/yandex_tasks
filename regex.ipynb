{
 "cells": [
  {
   "cell_type": "code",
   "execution_count": 1,
   "id": "44c893da",
   "metadata": {},
   "outputs": [
    {
     "name": "stdout",
     "output_type": "stream",
     "text": [
      "Collecting pypred\n",
      "  Downloading pypred-0.4.0.tar.gz (26 kB)\n",
      "  Installing build dependencies: started\n",
      "  Installing build dependencies: finished with status 'done'\n",
      "  Getting requirements to build wheel: started\n",
      "  Getting requirements to build wheel: finished with status 'done'\n",
      "  Preparing metadata (pyproject.toml): started\n",
      "  Preparing metadata (pyproject.toml): finished with status 'done'\n",
      "Collecting ply>=3.4 (from pypred)\n",
      "  Downloading ply-3.11-py2.py3-none-any.whl.metadata (844 bytes)\n",
      "Downloading ply-3.11-py2.py3-none-any.whl (49 kB)\n",
      "Building wheels for collected packages: pypred\n",
      "  Building wheel for pypred (pyproject.toml): started\n",
      "  Building wheel for pypred (pyproject.toml): finished with status 'done'\n",
      "  Created wheel for pypred: filename=pypred-0.4.0-py3-none-any.whl size=27110 sha256=18000cd10491f9739979a1ebe86c6ae6fc87f06dce94417956184f06be9cb24d\n",
      "  Stored in directory: c:\\users\\user\\appdata\\local\\pip\\cache\\wheels\\7c\\e2\\d5\\8e749aa51fe7db90cedd81c34ec3f577781c0e2449c65ba435\n",
      "Successfully built pypred\n",
      "Installing collected packages: ply, pypred\n",
      "\n",
      "   ---------------------------------------- 0/2 [ply]\n",
      "   ---------------------------------------- 0/2 [ply]\n",
      "   -------------------- ------------------- 1/2 [pypred]\n",
      "   -------------------- ------------------- 1/2 [pypred]\n",
      "   -------------------- ------------------- 1/2 [pypred]\n",
      "   ---------------------------------------- 2/2 [pypred]\n",
      "\n",
      "Successfully installed ply-3.11 pypred-0.4.0\n"
     ]
    }
   ],
   "source": [
    "!pip install pypred"
   ]
  },
  {
   "cell_type": "code",
   "execution_count": 5,
   "id": "fe35030e",
   "metadata": {},
   "outputs": [],
   "source": [
    "import pypred\n",
    "from dataclasses import dataclass"
   ]
  },
  {
   "cell_type": "code",
   "execution_count": 69,
   "id": "d0f1eb07",
   "metadata": {},
   "outputs": [
    {
     "name": "stdout",
     "output_type": "stream",
     "text": [
      "Подробная информация о рефинансировании находится на нашем сайте, в разделе «Кредиты» → «Рефинансирование»\n",
      "Подробная информация о рефинансировании находится на нашем сайте, в разделе «Кредиты» → «Рефинансирование»\n",
      "Подробная информация о рефинансировании находится на нашем сайте, в разделе «Кредиты» → «Рефинансирование»\n",
      "Подробная информация о рефинансировании находится на нашем сайте, в разделе «Кредиты» → «Рефинансирование»\n",
      "Подробная информация о рефинансировании находится на нашем сайте, в разделе «Кредиты» → «Рефинансирование»\n",
      "К сожалению, я вас не понял, перефразируйте пожалуйста вопрос\n",
      "К сожалению, я вас не понял, перефразируйте пожалуйста вопрос\n"
     ]
    }
   ],
   "source": [
    "# Задание 3\n",
    "@dataclass\n",
    "class Distributer:\n",
    "  rules: dict\n",
    "  \n",
    "  def analyser(self, request: dict[str,str]):\n",
    "    \"\"\"Функция-анализатор проверяет страну и город запроса\"\"\"\n",
    "    russia_moscow = \"country == 'Russia' and city == 'Moscow'\"\n",
    "    pred = pypred.Predicate(russia_moscow)\n",
    "    if pred.evaluate(request):\n",
    "      request[\"comment\"] = request[\"comment\"].lower() # переводим в нижний регистр, чтобы захватить больше вариантов\n",
    "      return self._processorRussia(request)\n",
    "  def _processorRussia(self, request):\n",
    "    \"\"\"Проходимся по правилам и ищем подходящее, если нашли -> даем ответ соответствующий топику, иначе просим перефраз\"\"\"\n",
    "\n",
    "    for topic, rule in self.rules.items(): \n",
    "      local_pred = pypred.Predicate(rule)\n",
    "      if local_pred.evaluate(request):\n",
    "        return self._url_distributer(topic)\n",
    "    else:\n",
    "      return \"К сожалению, я вас не понял, перефразируйте пожалуйста вопрос\"\n",
    "  def _url_distributer(self,topic):\n",
    "    match topic:\n",
    "      case \"refinance\":\n",
    "        return \"Подробная информация о рефинансировании находится на нашем сайте, в разделе «Кредиты» → «Рефинансирование»\"\n",
    "      \n",
    "\n",
    "cases = [{\n",
    "        \"comment\": \"Хочу узнать про рефинансирование\",\n",
    "        \"country\": \"Russia\",\n",
    "        \"city\": \"Moscow\"\n",
    "    },\n",
    "    {\n",
    "        'comment': 'рефинансирование и реструктуризация',\n",
    "        'country': 'Russia',\n",
    "        'city': 'Moscow',\n",
    "    },\n",
    "    {\n",
    "        'comment': 'рЕфИнАнСиРоВаНиЕ', \n",
    "        'country': 'Russia',\n",
    "        'city': 'Moscow',\n",
    "    },\n",
    "    {\n",
    "        'comment': 'Рефинансирование кредита', \n",
    "        'country': 'Russia',\n",
    "        'city': 'Moscow'\n",
    "    },\n",
    "    {\n",
    "        'comment': '  рефинансирование  ',  \n",
    "        'country': 'Russia',\n",
    "        'city': 'Moscow',\n",
    "    },\n",
    "    {\n",
    "        'comment': 'Нужна реструктуризация долга',\n",
    "        'country': 'Russia',\n",
    "        'city': 'Moscow',\n",
    "    },\n",
    "    {\n",
    "        'comment': 'Интересует рефинансовая программа',\n",
    "        'country': 'Russia',\n",
    "        'city': 'Moscow',\n",
    "    },\n",
    "\n",
    "]\n",
    "\n",
    "dist = Distributer({\n",
    "    \"refinance\":\"comment contains 'рефинансир'\" # правило для задачи\n",
    "  })\n",
    "\n",
    "for i in cases:\n",
    "  print(dist.analyser(i))\n",
    "\n"
   ]
  },
  {
   "cell_type": "code",
   "execution_count": 4,
   "id": "891dc1b4",
   "metadata": {},
   "outputs": [],
   "source": [
    "import re"
   ]
  },
  {
   "cell_type": "code",
   "execution_count": 12,
   "id": "f160d791",
   "metadata": {},
   "outputs": [
    {
     "name": "stdout",
     "output_type": "stream",
     "text": [
      "{'NotDestinated': True, 'in': 'не отдал', 'Detected': ['отдал']}\n",
      "{'NotDestinated': True, 'in': 'не привёз', 'Detected': ['привёз']}\n",
      "{'NotDestinated': True, 'in': 'не привез', 'Detected': ['привез']}\n",
      "{'NotDestinated': True, 'in': 'не довёз', 'Detected': ['довёз']}\n",
      "{'NotDestinated': True, 'in': 'не довез', 'Detected': ['довез']}\n",
      "{'NotDestinated': True, 'in': 'не везёт', 'Detected': ['везёт']}\n",
      "{'NotDestinated': True, 'in': 'не везет заказ', 'Detected': ['везет']}\n",
      "{'NotDestinated': True, 'in': 'не доехал', 'Detected': ['доехал']}\n",
      "{'NotDestinated': False, 'in': 'доехал', 'Detected': []}\n",
      "{'NotDestinated': False, 'in': 'привез', 'Detected': []}\n",
      "{'NotDestinated': True, 'in': 'заказ потерян', 'Detected': ['']}\n"
     ]
    }
   ],
   "source": [
    "# Задание 4\n",
    "\n",
    "@dataclass\n",
    "class LogisticReportAnalyser:\n",
    "  rule: str\n",
    "\n",
    "  def analyser(self, report):\n",
    "    lowered_report = report.lower()\n",
    "\n",
    "    reg = re.findall(self.rule, lowered_report)\n",
    "    if reg:\n",
    "      return {\"NotDestinated\":True,\"in\": lowered_report, \"Detected\":reg}\n",
    "    return {\"NotDestinated\":False,\"in\": lowered_report, \"Detected\":reg}\n",
    "        \n",
    "\n",
    "\n",
    "report_analyser = LogisticReportAnalyser(\n",
    "  r\"\\bне\\s+(отдал|прив[её]з|дов[её]з|вез[её]т|доехал)|потерян\\b\"\n",
    ")\n",
    "\n",
    "for i in \"не отдал,не привёз,не привез,не довёз,не довез,не везёт,не везет заказ,не доехал,доехал,привез,заказ потерян\".split(\",\"): \n",
    "  print(\n",
    "  report_analyser.analyser(\n",
    "    i\n",
    "    )\n",
    "  )\n",
    "\n"
   ]
  }
 ],
 "metadata": {
  "kernelspec": {
   "display_name": "venv",
   "language": "python",
   "name": "python3"
  },
  "language_info": {
   "codemirror_mode": {
    "name": "ipython",
    "version": 3
   },
   "file_extension": ".py",
   "mimetype": "text/x-python",
   "name": "python",
   "nbconvert_exporter": "python",
   "pygments_lexer": "ipython3",
   "version": "3.13.7"
  }
 },
 "nbformat": 4,
 "nbformat_minor": 5
}
