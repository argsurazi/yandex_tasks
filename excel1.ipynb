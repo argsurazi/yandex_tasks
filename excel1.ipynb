{
 "cells": [
  {
   "cell_type": "code",
   "execution_count": null,
   "id": "b7a4f46b",
   "metadata": {},
   "outputs": [],
   "source": [
    "!pip install pandas"
   ]
  },
  {
   "cell_type": "code",
   "execution_count": null,
   "id": "5fcba890",
   "metadata": {},
   "outputs": [],
   "source": [
    "!pip install openpyxl "
   ]
  },
  {
   "cell_type": "code",
   "execution_count": null,
   "id": "4545e51b",
   "metadata": {},
   "outputs": [],
   "source": [
    "import pandas as pd\n",
    "import numpy  as np"
   ]
  },
  {
   "cell_type": "code",
   "execution_count": null,
   "id": "fef1087b",
   "metadata": {},
   "outputs": [],
   "source": [
    "df = pd.read_excel(\"excels\\Тестовое_Задание_1_и_2_.xlsx\",0)\n",
    "df.head(1)\n",
    "# заменяем пустые строки в sure_topic на NaN для удобства \n",
    "df[\"sure_topic\"] = df[\"sure_topic\"].replace('',np.nan) "
   ]
  },
  {
   "cell_type": "code",
   "execution_count": 38,
   "id": "0638c19a",
   "metadata": {},
   "outputs": [
    {
     "data": {
      "text/plain": [
       "sure_topic\n",
       "Posle_poezdki_Zabytye_vesi                                                835\n",
       "OtmenyPropuski_Otmena_izza_passajira_Dostavka_posylkinegabaritnyj_gruz     12\n",
       "Posle_poezdki_Otzyv_o_passajire_Slucajno_povredil_masinu                    7\n",
       "Organizazionnye_voprosy_Avtomobil_                                          2\n",
       "OtmenyPropuski_Otmena_izza_passajira_Passajir_ne_vysel                      1\n",
       "OtmenyPropuskiOtmena_izza_voditelaPlohaa_svaz_aviarejim                     1\n",
       "Drugoe                                                                      1\n",
       "Urgent                                                                      1\n",
       "Utocnenie                                                                   1\n",
       "Name: count, dtype: int64"
      ]
     },
     "execution_count": 38,
     "metadata": {},
     "output_type": "execute_result"
    }
   ],
   "source": [
    "#1.1 Считаем sure_topic по категориям \n",
    "df['sure_topic'].value_counts()"
   ]
  },
  {
   "cell_type": "code",
   "execution_count": 39,
   "id": "7c9ce38f",
   "metadata": {},
   "outputs": [
    {
     "data": {
      "text/plain": [
       "custom_model_most_probable_topic\n",
       "Drugoe                                                                    116\n",
       "Utocnenie                                                                  17\n",
       "Posle_poezdki_Zabytye_vesi                                                  8\n",
       "Kak_rabotaet_Prilojenie                                                     2\n",
       "Problemy_s_poluceniem_zakaza                                                2\n",
       "Jaloby_Tarify_i_komissii                                                    1\n",
       "OtmenyPropuski_Otmena_izza_passajira_Dostavka_posylkinegabaritnyj_gruz      1\n",
       "Posle_poezdki_Ne_polucil_bonus                                              1\n",
       "OtmenyPropuskiOtmena_izza_voditelaPlohaa_svaz_aviarejim                     1\n",
       "Name: count, dtype: int64"
      ]
     },
     "execution_count": 39,
     "metadata": {},
     "output_type": "execute_result"
    }
   ],
   "source": [
    "#1.2 Считаем предсказания модели, когда sure_topic == NaN\n",
    "sure_topic_isna = df[df['sure_topic'].isna()]\n",
    "most_probable_topic4sure_isna = sure_topic_isna['custom_model_most_probable_topic'].value_counts()\n",
    "most_probable_topic4sure_isna"
   ]
  },
  {
   "cell_type": "code",
   "execution_count": 40,
   "id": "009f6e01",
   "metadata": {},
   "outputs": [
    {
     "data": {
      "text/plain": [
       "most_probable_topic\n",
       "Drugoe                                                                    0.162160\n",
       "Jaloby_Tarify_i_komissii                                                  0.067099\n",
       "Kak_rabotaet_Prilojenie                                                   0.169305\n",
       "Organizazionnye_voprosy_Avtomobil_                                        0.210197\n",
       "OtmenyPropuskiOtmena_izza_voditelaPlohaa_svaz_aviarejim                   0.191912\n",
       "OtmenyPropuski_Otmena_izza_passajira_Dostavka_posylkinegabaritnyj_gruz    0.477485\n",
       "OtmenyPropuski_Otmena_izza_passajira_Passajir_ne_vysel                    0.152773\n",
       "Posle_poezdki_Ne_polucil_bonus                                            0.084007\n",
       "Posle_poezdki_Otzyv_o_passajire_Slucajno_povredil_masinu                  0.315084\n",
       "Posle_poezdki_Zabytye_vesi                                                0.839671\n",
       "Problemy_s_poluceniem_zakaza                                              0.088466\n",
       "Urgent                                                                    0.120170\n",
       "Utocnenie                                                                 0.132412\n",
       "Name: custom_model_most_probable_topic_score, dtype: float64"
      ]
     },
     "execution_count": 40,
     "metadata": {},
     "output_type": "execute_result"
    }
   ],
   "source": [
    "#1.3 Считаем среднее предскозания модели [custom_model_most_probable_topic_score] для most_probable_topic\n",
    "\n",
    "model_score = df.groupby('most_probable_topic')['custom_model_most_probable_topic_score'].mean()\n",
    "model_score"
   ]
  },
  {
   "cell_type": "code",
   "execution_count": 43,
   "id": "f6bf4496",
   "metadata": {},
   "outputs": [
    {
     "name": "stderr",
     "output_type": "stream",
     "text": [
      "C:\\Users\\User\\AppData\\Local\\Temp\\ipykernel_17920\\566364167.py:10: FutureWarning: The default of observed=False is deprecated and will be changed to True in a future version of pandas. Pass observed=False to retain current behavior or observed=True to adopt the future default and silence this warning.\n",
      "  result = df.groupby('interval').size().reset_index(name='in_interval_score_count')\n"
     ]
    },
    {
     "data": {
      "text/html": [
       "<div>\n",
       "<style scoped>\n",
       "    .dataframe tbody tr th:only-of-type {\n",
       "        vertical-align: middle;\n",
       "    }\n",
       "\n",
       "    .dataframe tbody tr th {\n",
       "        vertical-align: top;\n",
       "    }\n",
       "\n",
       "    .dataframe thead th {\n",
       "        text-align: right;\n",
       "    }\n",
       "</style>\n",
       "<table border=\"1\" class=\"dataframe\">\n",
       "  <thead>\n",
       "    <tr style=\"text-align: right;\">\n",
       "      <th></th>\n",
       "      <th>interval</th>\n",
       "      <th>most_probable_topic_count</th>\n",
       "    </tr>\n",
       "  </thead>\n",
       "  <tbody>\n",
       "    <tr>\n",
       "      <th>0</th>\n",
       "      <td>(0.0, 0.1]</td>\n",
       "      <td>50</td>\n",
       "    </tr>\n",
       "    <tr>\n",
       "      <th>1</th>\n",
       "      <td>(0.1, 0.2]</td>\n",
       "      <td>110</td>\n",
       "    </tr>\n",
       "    <tr>\n",
       "      <th>2</th>\n",
       "      <td>(0.2, 0.3]</td>\n",
       "      <td>53</td>\n",
       "    </tr>\n",
       "    <tr>\n",
       "      <th>3</th>\n",
       "      <td>(0.3, 0.4]</td>\n",
       "      <td>37</td>\n",
       "    </tr>\n",
       "    <tr>\n",
       "      <th>4</th>\n",
       "      <td>(0.4, 0.5]</td>\n",
       "      <td>17</td>\n",
       "    </tr>\n",
       "    <tr>\n",
       "      <th>5</th>\n",
       "      <td>(0.5, 0.6]</td>\n",
       "      <td>25</td>\n",
       "    </tr>\n",
       "    <tr>\n",
       "      <th>6</th>\n",
       "      <td>(0.6, 0.7]</td>\n",
       "      <td>12</td>\n",
       "    </tr>\n",
       "    <tr>\n",
       "      <th>7</th>\n",
       "      <td>(0.7, 0.8]</td>\n",
       "      <td>30</td>\n",
       "    </tr>\n",
       "    <tr>\n",
       "      <th>8</th>\n",
       "      <td>(0.8, 0.9]</td>\n",
       "      <td>78</td>\n",
       "    </tr>\n",
       "    <tr>\n",
       "      <th>9</th>\n",
       "      <td>(0.9, 1.0]</td>\n",
       "      <td>598</td>\n",
       "    </tr>\n",
       "  </tbody>\n",
       "</table>\n",
       "</div>"
      ],
      "text/plain": [
       "     interval  most_probable_topic_count\n",
       "0  (0.0, 0.1]                         50\n",
       "1  (0.1, 0.2]                        110\n",
       "2  (0.2, 0.3]                         53\n",
       "3  (0.3, 0.4]                         37\n",
       "4  (0.4, 0.5]                         17\n",
       "5  (0.5, 0.6]                         25\n",
       "6  (0.6, 0.7]                         12\n",
       "7  (0.7, 0.8]                         30\n",
       "8  (0.8, 0.9]                         78\n",
       "9  (0.9, 1.0]                        598"
      ]
     },
     "execution_count": 43,
     "metadata": {},
     "output_type": "execute_result"
    }
   ],
   "source": [
    "#1.4 Считаем кол-во вхождений most_probable_topic в диапозон custom_model_most_probable_topic_score [0.00:1.00:0.1]\n",
    "import pandas as pd\n",
    "\n",
    "  \n",
    "# cоздаем интервалы с шагом 0.1\n",
    "intervals = [i * 0.1 for i in range(0, 11)]\n",
    "\n",
    "# и группируем по интервалам\n",
    "df['interval'] = pd.cut(df['custom_model_most_probable_topic_score'], intervals)\n",
    "result = df.groupby('interval').size().reset_index(name='in_interval_score_count')\n",
    "result.columns = ['interval', 'most_probable_topic_count']\n",
    "result\n"
   ]
  }
 ],
 "metadata": {
  "kernelspec": {
   "display_name": "venv",
   "language": "python",
   "name": "python3"
  },
  "language_info": {
   "codemirror_mode": {
    "name": "ipython",
    "version": 3
   },
   "file_extension": ".py",
   "mimetype": "text/x-python",
   "name": "python",
   "nbconvert_exporter": "python",
   "pygments_lexer": "ipython3",
   "version": "3.13.7"
  }
 },
 "nbformat": 4,
 "nbformat_minor": 5
}
